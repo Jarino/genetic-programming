{
 "cells": [
  {
   "cell_type": "code",
   "execution_count": 1,
   "metadata": {
    "collapsed": false
   },
   "outputs": [],
   "source": [
    "import math\n",
    "import random as rnd\n",
    "\n",
    "import numpy as np\n",
    "from sklearn import datasets\n",
    "from scipy.spatial.distance import pdist\n",
    "import matplotlib.pyplot as plt\n",
    "%matplotlib inline\n",
    "\n",
    "from rtree.random_tree_factory import RandomTreeFactory\n",
    "from environment.environment import Environment\n",
    "from genetics.individual import Individual\n",
    "from genetics.selection import tournament_selection\n",
    "from genetics.operators import point_mutation\n",
    "from genetics.operators import crossover"
   ]
  },
  {
   "cell_type": "code",
   "execution_count": 2,
   "metadata": {
    "collapsed": false
   },
   "outputs": [],
   "source": [
    "SYMBOLS = {\n",
    "    '_sum': lambda x, y: x + y,\n",
    "    '_diff': lambda x, y: x - y,\n",
    "    '_prod': lambda x, y: x * y,\n",
    "    '_div': lambda x, y: x/y if y != 0 else 0,\n",
    "    '_log': lambda x: math.log(x) if x > 0 else 0,\n",
    "    '_sin': lambda x: math.sin(x),\n",
    "    '_vars': lambda: rnd.choice(['x0', 'x1', 'x2', 'x3'])\n",
    "}\n",
    "\n",
    "ENV = Environment(SYMBOLS)\n",
    "\n",
    "FACTORY = RandomTreeFactory(environment=ENV)"
   ]
  },
  {
   "cell_type": "code",
   "execution_count": 3,
   "metadata": {
    "collapsed": true
   },
   "outputs": [],
   "source": [
    "DATA = datasets.load_iris()['data']\n",
    "N_POP = 100\n",
    "N_INPUTS = 4\n",
    "N_OUTPUTS = 2\n",
    "CROSSOVER_P = 0.9\n",
    "MUTATION_P = 0.1\n",
    "TOURNAMENT_SIZE = 10"
   ]
  },
  {
   "cell_type": "code",
   "execution_count": 4,
   "metadata": {
    "collapsed": true
   },
   "outputs": [],
   "source": [
    "def cost_function(outputs):\n",
    "    return sum(pdist(np.array(outputs), metric='euclidean'))"
   ]
  },
  {
   "cell_type": "code",
   "execution_count": 16,
   "metadata": {
    "collapsed": false
   },
   "outputs": [],
   "source": [
    "population = []\n",
    "variables = ['x%d'%x for x in range(0, N_INPUTS)]\n",
    "for _ in range(0, N_POP):\n",
    "    trees = [FACTORY.create() for _ in range(0, N_OUTPUTS)]\n",
    "    population.append(Individual(trees, variables))"
   ]
  },
  {
   "cell_type": "code",
   "execution_count": 17,
   "metadata": {
    "collapsed": false
   },
   "outputs": [],
   "source": [
    "for individual in population:\n",
    "    individual.eval_on_data(DATA, cost_function, SYMBOLS)"
   ]
  },
  {
   "cell_type": "code",
   "execution_count": 18,
   "metadata": {
    "collapsed": false
   },
   "outputs": [],
   "source": [
    "new_population = []\n",
    "while len(new_population) < N_POP:\n",
    "    child_a = tournament_selection(population, TOURNAMENT_SIZE).copy()\n",
    "    child_b = tournament_selection(population, TOURNAMENT_SIZE).copy()\n",
    "    \n",
    "    # crossover\n",
    "    for i in range(0, N_OUTPUTS):\n",
    "        if rnd.random() < CROSSOVER_P:\n",
    "            child_a.trees[i], child_b.trees[i] = crossover(child_a.trees[i], child_b.trees[i])\n",
    "    \n",
    "    \n",
    "    for i in range(0, N_OUTPUTS):\n",
    "        if rnd.random() < MUTATION_P:\n",
    "            child_a.trees[i] = point_mutation(child_a.trees[i], ENV.symbols_inv)\n",
    "            child_b.trees[i] = point_mutation(child_b.trees[i], ENV.symbols_inv)\n",
    "    \n",
    "    new_population.append(child_a)\n",
    "    new_population.append(child_b)\n",
    "            \n",
    "        "
   ]
  },
  {
   "cell_type": "code",
   "execution_count": 19,
   "metadata": {
    "collapsed": false
   },
   "outputs": [
    {
     "name": "stdout",
     "output_type": "stream",
     "text": [
      "_diff(_log(x1),x1)\n",
      "_sin(_prod(x0,x0))\n",
      "_div(x0,_log(x1))\n",
      "_log(_sin(_log(x2)))\n",
      "_diff(_sin(x0),_sin(_prod(x2,x0)))\n",
      "_log(x0)\n",
      "_sin(x3)\n",
      "_div(_diff(x3,_log(_sin(_log(x3)))),x0)\n",
      "_sin(_log(_log(x0)))\n",
      "_log(_log(_log(x0)))\n",
      "_diff(x0,_log(x0))\n",
      "_sin(_log(x2))\n",
      "_diff(_log(_log(x1)),_sin(x1))\n",
      "_sin(_sin(x0))\n",
      "_prod(x1,x3)\n",
      "_div(_sin(x0),_sin(_log(x2)))\n",
      "_sin(_diff(x2,_log(x0)))\n",
      "_div(_diff(x3,x0),x2)\n",
      "_diff(x0,_log(x0))\n",
      "_sin(_log(x0))\n",
      "_prod(x1,_sin(x1))\n",
      "_sin(_div(_log(x1),x2))\n",
      "_prod(_sin(x0),_sin(_sin(x0)))\n",
      "_sin(_div(_log(x1),x2))\n",
      "_log(_sin(x1))\n",
      "_sin(_diff(_sin(x2),x0))\n",
      "_sin(_log(x2))\n",
      "_sin(_log(x2))\n",
      "_sin(_sum(x0,x1))\n",
      "_sum(_sin(_sin(_log(x1))),x3)\n",
      "_sin(_sin(_log(_log(x3))))\n",
      "_log(x1)\n",
      "_prod(x1,x3)\n",
      "_div(_sin(x0),_log(x1))\n",
      "_prod(_sin(x0),_sin(_sin(x1)))\n",
      "_sin(_div(_sin(x0),x2))\n",
      "_diff(_log(_log(x1)),x1)\n",
      "_sin(_sin(_log(x2)))\n",
      "_diff(_sin(_log(x1)),x1)\n",
      "_sin(_sin(_log(x2)))\n",
      "_sin(_diff(x2,x0))\n",
      "_div(_diff(_sin(x2),x0),x0)\n",
      "_div(x2,x0)\n",
      "_sum(_log(x2),x3)\n",
      "_div(x2,x0)\n",
      "_sum(_log(x2),_sin(x2))\n",
      "_log(_log(x0))\n",
      "_prod(_log(x3),_log(x2))\n",
      "_div(x2,x0)\n",
      "_sum(_log(x2),_sin(x2))\n",
      "_sin(_div(x2,x0))\n",
      "_log(_log(_log(x2)))\n",
      "_sin(_sin(_sum(_log(x0),x1)))\n",
      "_log(_sin(x2))\n",
      "_log(_diff(x0,x0))\n",
      "_sin(_log(x1))\n",
      "_div(_sin(_sin(x2)),x2)\n",
      "_diff(x0,_log(x2))\n",
      "_sin(_div(x0,x0))\n",
      "_log(_log(_log(_log(x2))))\n",
      "_sin(x0)\n",
      "_log(_log(_log(x0)))\n",
      "_sin(_div(x2,_log(x0)))\n",
      "_log(_log(_log(x2)))\n",
      "_prod(_sin(x2),x3)\n",
      "_div(_sin(x3),_sin(x0))\n",
      "_sin(_diff(x1,x0))\n",
      "_div(_diff(x0,x0),x0)\n",
      "_div(_prod(x0,x3),x0)\n",
      "_log(x0)\n",
      "_div(x2,x1)\n",
      "_log(_prod(x0,_sin(x3)))\n",
      "_diff(_log(x0),x1)\n",
      "_sin(_sin(_log(x2)))\n",
      "_sin(_div(x2,_log(x1)))\n",
      "_log(_log(_log(x2)))\n",
      "_sin(x2)\n",
      "_sin(x3)\n",
      "_sin(_log(_sin(x1)))\n",
      "_sum(x0,_log(x0))\n",
      "_diff(_log(x1),_log(x0))\n",
      "_sin(_log(x3))\n",
      "_sum(x0,_log(_sin(x2)))\n",
      "_sin(_log(x2))\n",
      "_prod(x2,x3)\n",
      "_div(_sin(x0),_log(_log(x2)))\n",
      "_sin(_div(_sin(x1),x0))\n",
      "_log(_sin(x0))\n",
      "_div(_log(_sin(x1)),x1)\n",
      "_sin(x2)\n",
      "_prod(_sin(x0),_log(x1))\n",
      "_sin(_div(_log(x1),_sin(_log(x2))))\n",
      "_diff(_log(x0),x0)\n",
      "_sin(x3)\n",
      "_sin(_diff(x2,_log(x0)))\n",
      "_div(_diff(_log(x2),x0),x0)\n",
      "_sin(_sin(_sum(x0,x1)))\n",
      "_log(x2)\n",
      "_log(_diff(_log(x0),x0))\n",
      "_sin(_sin(_log(x1)))\n",
      "_prod(_sin(x0),x3)\n",
      "_div(_sin(x0),x2)\n",
      "_log(_diff(_log(x0),x1))\n",
      "_sin(_sin(_sin(x0)))\n",
      "_diff(_log(_sin(x0)),_log(x0))\n",
      "_sin(_log(x1))\n",
      "_prod(x0,_sin(x1))\n",
      "_sin(_div(_log(x2),x2))\n",
      "_sin(_log(x0))\n",
      "_log(x2)\n",
      "_diff(_div(x2,x0),_log(x0))\n",
      "_sin(_log(_log(_log(x2))))\n",
      "_div(x0,_sin(x1))\n",
      "_sin(_diff(x0,_vars))\n"
     ]
    },
    {
     "ename": "TypeError",
     "evalue": "unsupported operand type(s) for -: 'float' and 'function'",
     "output_type": "error",
     "traceback": [
      "\u001b[0;31m---------------------------------------------------------------------------\u001b[0m",
      "\u001b[0;31mTypeError\u001b[0m                                 Traceback (most recent call last)",
      "\u001b[0;32m<ipython-input-19-fb8f8534e585>\u001b[0m in \u001b[0;36m<module>\u001b[0;34m()\u001b[0m\n\u001b[1;32m      2\u001b[0m     \u001b[1;32mfor\u001b[0m \u001b[0mtree\u001b[0m \u001b[1;32min\u001b[0m \u001b[0mindividual\u001b[0m\u001b[1;33m.\u001b[0m\u001b[0mtrees\u001b[0m\u001b[1;33m:\u001b[0m\u001b[1;33m\u001b[0m\u001b[0m\n\u001b[1;32m      3\u001b[0m         \u001b[0mprint\u001b[0m\u001b[1;33m(\u001b[0m\u001b[0mtree\u001b[0m\u001b[1;33m)\u001b[0m\u001b[1;33m\u001b[0m\u001b[0m\n\u001b[0;32m----> 4\u001b[0;31m     \u001b[0mindividual\u001b[0m\u001b[1;33m.\u001b[0m\u001b[0meval_on_data\u001b[0m\u001b[1;33m(\u001b[0m\u001b[0mDATA\u001b[0m\u001b[1;33m,\u001b[0m \u001b[0mcost_function\u001b[0m\u001b[1;33m,\u001b[0m \u001b[0mSYMBOLS\u001b[0m\u001b[1;33m)\u001b[0m\u001b[1;33m\u001b[0m\u001b[0m\n\u001b[0m",
      "\u001b[0;32mC:\\Users\\jarinov-notas\\dev\\gprog\\genetics\\individual.py\u001b[0m in \u001b[0;36meval_on_data\u001b[0;34m(self, data, cost_function, symbols)\u001b[0m\n\u001b[1;32m     18\u001b[0m             \u001b[0moutputs\u001b[0m \u001b[1;33m=\u001b[0m \u001b[1;33m[\u001b[0m\u001b[1;33m]\u001b[0m\u001b[1;33m\u001b[0m\u001b[0m\n\u001b[1;32m     19\u001b[0m             \u001b[1;32mfor\u001b[0m \u001b[0mtree\u001b[0m \u001b[1;32min\u001b[0m \u001b[0mself\u001b[0m\u001b[1;33m.\u001b[0m\u001b[0mtrees\u001b[0m\u001b[1;33m:\u001b[0m\u001b[1;33m\u001b[0m\u001b[0m\n\u001b[0;32m---> 20\u001b[0;31m                 \u001b[0moutputs\u001b[0m\u001b[1;33m.\u001b[0m\u001b[0mappend\u001b[0m\u001b[1;33m(\u001b[0m\u001b[0mtree\u001b[0m\u001b[1;33m(\u001b[0m\u001b[1;33m{\u001b[0m\u001b[1;33m**\u001b[0m\u001b[0msymbols\u001b[0m\u001b[1;33m,\u001b[0m \u001b[1;33m**\u001b[0m\u001b[0minputs\u001b[0m\u001b[1;33m}\u001b[0m\u001b[1;33m)\u001b[0m\u001b[1;33m)\u001b[0m\u001b[1;33m\u001b[0m\u001b[0m\n\u001b[0m\u001b[1;32m     21\u001b[0m             \u001b[0my_test\u001b[0m\u001b[1;33m.\u001b[0m\u001b[0mappend\u001b[0m\u001b[1;33m(\u001b[0m\u001b[0moutputs\u001b[0m\u001b[1;33m)\u001b[0m\u001b[1;33m\u001b[0m\u001b[0m\n\u001b[1;32m     22\u001b[0m \u001b[1;33m\u001b[0m\u001b[0m\n",
      "\u001b[0;32mC:\\Users\\jarinov-notas\\dev\\gprog\\rtree\\node.py\u001b[0m in \u001b[0;36m__call__\u001b[0;34m(self, symbols)\u001b[0m\n\u001b[1;32m     27\u001b[0m \u001b[1;33m\u001b[0m\u001b[0m\n\u001b[1;32m     28\u001b[0m     \u001b[1;32mdef\u001b[0m \u001b[0m__call__\u001b[0m\u001b[1;33m(\u001b[0m\u001b[0mself\u001b[0m\u001b[1;33m,\u001b[0m \u001b[0msymbols\u001b[0m\u001b[1;33m)\u001b[0m\u001b[1;33m:\u001b[0m\u001b[1;33m\u001b[0m\u001b[0m\n\u001b[0;32m---> 29\u001b[0;31m         \u001b[1;32mreturn\u001b[0m \u001b[0meval\u001b[0m\u001b[1;33m(\u001b[0m\u001b[0mstr\u001b[0m\u001b[1;33m(\u001b[0m\u001b[0mself\u001b[0m\u001b[1;33m)\u001b[0m\u001b[1;33m,\u001b[0m \u001b[0msymbols\u001b[0m \u001b[1;33m)\u001b[0m\u001b[1;33m\u001b[0m\u001b[0m\n\u001b[0m\u001b[1;32m     30\u001b[0m \u001b[1;33m\u001b[0m\u001b[0m\n\u001b[1;32m     31\u001b[0m     \u001b[1;32mdef\u001b[0m \u001b[0mcopy\u001b[0m\u001b[1;33m(\u001b[0m\u001b[0mself\u001b[0m\u001b[1;33m)\u001b[0m\u001b[1;33m:\u001b[0m\u001b[1;33m\u001b[0m\u001b[0m\n",
      "\u001b[0;32m<string>\u001b[0m in \u001b[0;36m<module>\u001b[0;34m()\u001b[0m\n",
      "\u001b[0;32m<ipython-input-2-e33d8a6154f1>\u001b[0m in \u001b[0;36m<lambda>\u001b[0;34m(x, y)\u001b[0m\n\u001b[1;32m      1\u001b[0m SYMBOLS = {\n\u001b[1;32m      2\u001b[0m     \u001b[1;34m'_sum'\u001b[0m\u001b[1;33m:\u001b[0m \u001b[1;32mlambda\u001b[0m \u001b[0mx\u001b[0m\u001b[1;33m,\u001b[0m \u001b[0my\u001b[0m\u001b[1;33m:\u001b[0m \u001b[0mx\u001b[0m \u001b[1;33m+\u001b[0m \u001b[0my\u001b[0m\u001b[1;33m,\u001b[0m\u001b[1;33m\u001b[0m\u001b[0m\n\u001b[0;32m----> 3\u001b[0;31m     \u001b[1;34m'_diff'\u001b[0m\u001b[1;33m:\u001b[0m \u001b[1;32mlambda\u001b[0m \u001b[0mx\u001b[0m\u001b[1;33m,\u001b[0m \u001b[0my\u001b[0m\u001b[1;33m:\u001b[0m \u001b[0mx\u001b[0m \u001b[1;33m-\u001b[0m \u001b[0my\u001b[0m\u001b[1;33m,\u001b[0m\u001b[1;33m\u001b[0m\u001b[0m\n\u001b[0m\u001b[1;32m      4\u001b[0m     \u001b[1;34m'_prod'\u001b[0m\u001b[1;33m:\u001b[0m \u001b[1;32mlambda\u001b[0m \u001b[0mx\u001b[0m\u001b[1;33m,\u001b[0m \u001b[0my\u001b[0m\u001b[1;33m:\u001b[0m \u001b[0mx\u001b[0m \u001b[1;33m*\u001b[0m \u001b[0my\u001b[0m\u001b[1;33m,\u001b[0m\u001b[1;33m\u001b[0m\u001b[0m\n\u001b[1;32m      5\u001b[0m     \u001b[1;34m'_div'\u001b[0m\u001b[1;33m:\u001b[0m \u001b[1;32mlambda\u001b[0m \u001b[0mx\u001b[0m\u001b[1;33m,\u001b[0m \u001b[0my\u001b[0m\u001b[1;33m:\u001b[0m \u001b[0mx\u001b[0m\u001b[1;33m/\u001b[0m\u001b[0my\u001b[0m \u001b[1;32mif\u001b[0m \u001b[0my\u001b[0m \u001b[1;33m!=\u001b[0m \u001b[1;36m0\u001b[0m \u001b[1;32melse\u001b[0m \u001b[1;36m0\u001b[0m\u001b[1;33m,\u001b[0m\u001b[1;33m\u001b[0m\u001b[0m\n",
      "\u001b[0;31mTypeError\u001b[0m: unsupported operand type(s) for -: 'float' and 'function'"
     ]
    }
   ],
   "source": [
    "for individual in new_population:\n",
    "    for tree in individual.trees:\n",
    "        print(tree)\n",
    "    individual.eval_on_data(DATA, cost_function, SYMBOLS)"
   ]
  },
  {
   "cell_type": "code",
   "execution_count": null,
   "metadata": {
    "collapsed": true
   },
   "outputs": [],
   "source": []
  }
 ],
 "metadata": {
  "anaconda-cloud": {},
  "kernelspec": {
   "display_name": "Python [conda root]",
   "language": "python",
   "name": "conda-root-py"
  },
  "language_info": {
   "codemirror_mode": {
    "name": "ipython",
    "version": 3
   },
   "file_extension": ".py",
   "mimetype": "text/x-python",
   "name": "python",
   "nbconvert_exporter": "python",
   "pygments_lexer": "ipython3",
   "version": "3.5.2"
  }
 },
 "nbformat": 4,
 "nbformat_minor": 1
}
