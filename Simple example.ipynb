{
 "cells": [
  {
   "cell_type": "code",
   "execution_count": 1,
   "metadata": {
    "collapsed": false
   },
   "outputs": [],
   "source": [
    "import math\n",
    "import random as rnd\n",
    "\n",
    "import numpy as np\n",
    "from sklearn import datasets\n",
    "from scipy.spatial.distance import pdist\n",
    "import matplotlib.pyplot as plt\n",
    "%matplotlib inline\n",
    "\n",
    "from rtree.random_tree_factory import RandomTreeFactory\n",
    "from environment.environment import Environment\n",
    "from genetics.individual import Individual\n",
    "from genetics.selection import tournament_selection\n",
    "from genetics.operators import point_mutation\n",
    "from genetics.operators import crossover"
   ]
  },
  {
   "cell_type": "markdown",
   "metadata": {},
   "source": [
    "Let's plot some function, which we will try to fit."
   ]
  },
  {
   "cell_type": "code",
   "execution_count": null,
   "metadata": {
    "collapsed": true
   },
   "outputs": [],
   "source": []
  },
  {
   "cell_type": "code",
   "execution_count": 2,
   "metadata": {
    "collapsed": false
   },
   "outputs": [],
   "source": [
    "SYMBOLS = {\n",
    "    '_sum': lambda x, y: x + y,\n",
    "    '_diff': lambda x, y: x - y,\n",
    "    '_prod': lambda x, y: x * y,\n",
    "    '_div': lambda x, y: x/y if y != 0 else 0,\n",
    "    '_log': lambda x: math.log(x) if x > 0 else 0,\n",
    "    '_sin': lambda x: math.sin(x),\n",
    "    '_vars': lambda: rnd.choice(['x0', 'x1', 'x2', 'x3'])\n",
    "}\n",
    "\n",
    "ENV = Environment(SYMBOLS)\n",
    "\n",
    "FACTORY = RandomTreeFactory(environment=ENV)"
   ]
  },
  {
   "cell_type": "code",
   "execution_count": 3,
   "metadata": {
    "collapsed": true
   },
   "outputs": [],
   "source": [
    "DATA = datasets.load_iris()['data']\n",
    "N_POP = 100\n",
    "N_INPUTS = 4\n",
    "N_OUTPUTS = 2\n",
    "CROSSOVER_P = 0.9\n",
    "MUTATION_P = 0.1\n",
    "TOURNAMENT_SIZE = 10"
   ]
  },
  {
   "cell_type": "code",
   "execution_count": 4,
   "metadata": {
    "collapsed": true
   },
   "outputs": [],
   "source": [
    "def cost_function(outputs):\n",
    "    return sum(pdist(np.array(outputs), metric='euclidean'))"
   ]
  },
  {
   "cell_type": "code",
   "execution_count": 5,
   "metadata": {
    "collapsed": false
   },
   "outputs": [],
   "source": [
    "    population = []\n",
    "    variables = ['x%d'%x for x in range(0, N_INPUTS)]\n",
    "    for _ in range(0, N_POP):\n",
    "        trees = [FACTORY.create() for _ in range(0, N_OUTPUTS)]\n",
    "        population.append(Individual(trees, variables))"
   ]
  },
  {
   "cell_type": "code",
   "execution_count": 6,
   "metadata": {
    "collapsed": false
   },
   "outputs": [],
   "source": [
    "for individual in population:\n",
    "    individual.eval_on_data(DATA, cost_function, SYMBOLS)"
   ]
  },
  {
   "cell_type": "code",
   "execution_count": 7,
   "metadata": {
    "collapsed": false
   },
   "outputs": [],
   "source": [
    "new_population = []\n",
    "while len(new_population) < N_POP:\n",
    "    child_a = tournament_selection(population, TOURNAMENT_SIZE).copy()\n",
    "    child_b = tournament_selection(population, TOURNAMENT_SIZE).copy()\n",
    "    \n",
    "    # crossover\n",
    "    for i in range(0, N_OUTPUTS):\n",
    "        if rnd.random() < CROSSOVER_P:\n",
    "            child_a.trees[i], child_b.trees[i] = crossover(child_a.trees[i], child_b.trees[i])\n",
    "    \n",
    "    \n",
    "    for i in range(0, N_OUTPUTS):\n",
    "        if rnd.random() < MUTATION_P:\n",
    "            child_a.trees[i] = point_mutation(child_a.trees[i], ENV)\n",
    "            child_b.trees[i] = point_mutation(child_b.trees[i], ENV)\n",
    "    \n",
    "    new_population.append(child_a)\n",
    "    new_population.append(child_b)\n",
    "            \n",
    "        "
   ]
  },
  {
   "cell_type": "code",
   "execution_count": 8,
   "metadata": {
    "collapsed": false
   },
   "outputs": [],
   "source": [
    "for individual in new_population:\n",
    "    individual.eval_on_data(DATA, cost_function, SYMBOLS)"
   ]
  },
  {
   "cell_type": "code",
   "execution_count": 11,
   "metadata": {
    "collapsed": false
   },
   "outputs": [
    {
     "data": {
      "text/plain": [
       "0.0"
      ]
     },
     "execution_count": 11,
     "metadata": {},
     "output_type": "execute_result"
    }
   ],
   "source": [
    "min([i.fitness for i in new_population])"
   ]
  },
  {
   "cell_type": "code",
   "execution_count": 13,
   "metadata": {
    "collapsed": false
   },
   "outputs": [
    {
     "name": "stdout",
     "output_type": "stream",
     "text": [
      "_sin(_div(x3,x3))\n",
      "_div(x2,x2)\n"
     ]
    }
   ],
   "source": [
    "print(min(new_population, key=lambda i: i.fitness))"
   ]
  }
 ],
 "metadata": {
  "anaconda-cloud": {},
  "kernelspec": {
   "display_name": "Python [conda root]",
   "language": "python",
   "name": "conda-root-py"
  },
  "language_info": {
   "codemirror_mode": {
    "name": "ipython",
    "version": 3
   },
   "file_extension": ".py",
   "mimetype": "text/x-python",
   "name": "python",
   "nbconvert_exporter": "python",
   "pygments_lexer": "ipython3",
   "version": "3.5.2"
  }
 },
 "nbformat": 4,
 "nbformat_minor": 1
}
