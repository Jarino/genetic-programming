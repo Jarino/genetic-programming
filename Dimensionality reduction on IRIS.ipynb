{
 "cells": [
  {
   "cell_type": "code",
   "execution_count": 1,
   "metadata": {
    "collapsed": false
   },
   "outputs": [],
   "source": [
    "import math\n",
    "import random as rnd\n",
    "\n",
    "import numpy as np\n",
    "from sklearn import datasets\n",
    "from scipy.spatial.distance import pdist\n",
    "from scipy import stats\n",
    "import matplotlib.pyplot as plt\n",
    "%matplotlib inline\n",
    "\n",
    "from environment.environment import Environment\n",
    "from rtree.random_tree_factory import RandomTreeFactory\n",
    "from genetics.individual import Individual\n",
    "from genetics.selection import tournament_selection\n",
    "from genetics.operators import point_mutation\n",
    "from genetics.operators import crossover"
   ]
  },
  {
   "cell_type": "code",
   "execution_count": 19,
   "metadata": {
    "collapsed": false
   },
   "outputs": [],
   "source": [
    "SYMBOLS = {\n",
    "    '_sum': lambda x, y: x + y,\n",
    "    '_diff': lambda x, y: x - y,\n",
    "    '_prod': lambda x, y: x * y,\n",
    "#     '_div': lambda x, y: x/y if y != 0 else 0,\n",
    "#     '_log': lambda x: math.log(x) if x > 0 else 0,\n",
    "#     '_sin': lambda x: math.sin(x),\n",
    "    '_dummy': lambda x: x,\n",
    "    '_vars': lambda: rnd.choice(['x0', 'x1', 'x2', 'x3'])\n",
    "}\n",
    "\n",
    "ENV = Environment(SYMBOLS)\n",
    "\n",
    "FACTORY = RandomTreeFactory(environment=ENV)"
   ]
  },
  {
   "cell_type": "code",
   "execution_count": 28,
   "metadata": {
    "collapsed": true
   },
   "outputs": [],
   "source": [
    "DATA = datasets.load_iris()['data']\n",
    "N_POP = 100\n",
    "N_INPUTS = 4\n",
    "N_OUTPUTS = 2\n",
    "N_GENS = 2\n",
    "CROSSOVER_P = 0.9\n",
    "MUTATION_P = 0.1\n",
    "TOURNAMENT_SIZE=10"
   ]
  },
  {
   "cell_type": "code",
   "execution_count": 29,
   "metadata": {
    "collapsed": true
   },
   "outputs": [],
   "source": [
    "def cost_function(outputs):   \n",
    "    dist = pdist(np.array(outputs), metric='euclidean')\n",
    "    \n",
    "    h = np.histogram(dist)\n",
    "    p=h[0].astype(float)/h[0].sum()\n",
    "    return stats.entropy(p),"
   ]
  },
  {
   "cell_type": "code",
   "execution_count": 46,
   "metadata": {
    "collapsed": false
   },
   "outputs": [],
   "source": [
    "# create initial population\n",
    "\n",
    "population = []\n",
    "variables = ['x%d'%x for x in range(0, N_INPUTS)]\n",
    "for _ in range(0, N_POP):\n",
    "    trees = [FACTORY.create() for _ in range(0, N_OUTPUTS)]\n",
    "    population.append(Individual(trees, variables))"
   ]
  },
  {
   "cell_type": "code",
   "execution_count": 47,
   "metadata": {
    "collapsed": true
   },
   "outputs": [],
   "source": [
    "hof = []"
   ]
  },
  {
   "cell_type": "code",
   "execution_count": 48,
   "metadata": {
    "collapsed": false
   },
   "outputs": [
    {
     "name": "stdout",
     "output_type": "stream",
     "text": [
      "Generation 0\n",
      "Generation 1\n"
     ]
    }
   ],
   "source": [
    "# main evolution cycle\n",
    "\n",
    "for i in range(0, N_GENS):\n",
    "    \n",
    "    print('Generation %d' % i)\n",
    "    \n",
    "    # evaluate the population\n",
    "    for individual in population:\n",
    "        individual.eval_on_data(DATA, cost_function, SYMBOLS)\n",
    "    \n",
    "    hof.append(sorted(population, key=lambda x: x.fitness)[0])\n",
    "    \n",
    "    # create new population\n",
    "    new_population = []\n",
    "    while len(new_population) < N_POP:\n",
    "        child_a = tournament_selection(population, TOURNAMENT_SIZE).copy()\n",
    "        child_b = tournament_selection(population, TOURNAMENT_SIZE).copy()\n",
    "\n",
    "        # crossover\n",
    "        for i in range(0, N_OUTPUTS):\n",
    "            if rnd.random() < CROSSOVER_P:\n",
    "                child_a.trees[i], child_b.trees[i] = crossover(child_a.trees[i], child_b.trees[i])\n",
    "\n",
    "\n",
    "        for i in range(0, N_OUTPUTS):\n",
    "            if rnd.random() < MUTATION_P:\n",
    "                child_a.trees[i] = point_mutation(child_a.trees[i], ENV)\n",
    "                child_b.trees[i] = point_mutation(child_b.trees[i], ENV)\n",
    "\n",
    "        new_population.append(child_a)\n",
    "        new_population.append(child_b)\n",
    "        \n",
    "    population = new_population"
   ]
  },
  {
   "cell_type": "code",
   "execution_count": 32,
   "metadata": {
    "collapsed": true
   },
   "outputs": [],
   "source": [
    "population.sort(key=lambda x: x.fitness)"
   ]
  },
  {
   "cell_type": "code",
   "execution_count": 50,
   "metadata": {
    "collapsed": false
   },
   "outputs": [
    {
     "name": "stdout",
     "output_type": "stream",
     "text": [
      "_diff(_dummy(x3),_dummy(x3))\n",
      "_prod(_dummy(x1),_dummy(x0))\n"
     ]
    },
    {
     "data": {
      "image/png": "[encoded data removed]",
      "text/plain": [
       "<matplotlib.figure.Figure at 0x27526497358>"
      ]
     },
     "metadata": {},
     "output_type": "display_data"
    }
   ],
   "source": [
    "chosen = hof[1]\n",
    "out = []\n",
    "\n",
    "for row in DATA:\n",
    "    out.append(chosen.eval_on_row(row, cost_function, SYMBOLS))\n",
    "\n",
    "out = np.array(out)\n",
    "\n",
    "plt.scatter(out[:,0], out[:,1])\n",
    "print(chosen)"
   ]
  },
  {
   "cell_type": "code",
   "execution_count": 34,
   "metadata": {
    "collapsed": false
   },
   "outputs": [
    {
     "name": "stdout",
     "output_type": "stream",
     "text": [
      "_diff(x0,x2)\n",
      "_diff(x3,x0)\n"
     ]
    }
   ],
   "source": [
    "print(population[0])"
   ]
  },
  {
   "cell_type": "code",
   "execution_count": null,
   "metadata": {
    "collapsed": true
   },
   "outputs": [],
   "source": []
  }
 ],
 "metadata": {
  "anaconda-cloud": {},
  "kernelspec": {
   "display_name": "Python [conda root]",
   "language": "python",
   "name": "conda-root-py"
  },
  "language_info": {
   "codemirror_mode": {
    "name": "ipython",
    "version": 3
   },
   "file_extension": ".py",
   "mimetype": "text/x-python",
   "name": "python",
   "nbconvert_exporter": "python",
   "pygments_lexer": "ipython3",
   "version": "3.5.2"
  }
 },
 "nbformat": 4,
 "nbformat_minor": 1
}
