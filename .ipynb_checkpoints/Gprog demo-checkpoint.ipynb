{
 "cells": [
  {
   "cell_type": "code",
   "execution_count": 1,
   "metadata": {
    "collapsed": false
   },
   "outputs": [],
   "source": [
    "import math\n",
    "\n",
    "from scipy.stats import norm\n",
    "import matplotlib.pyplot as plt\n",
    "import numpy as np\n",
    "from numpy import exp\n",
    "from numpy import sqrt\n",
    "\n",
    "import readcode\n",
    "import symbols\n",
    "import genetic_operations\n",
    "\n",
    "%matplotlib inline"
   ]
  },
  {
   "cell_type": "markdown",
   "metadata": {},
   "source": [
    "Najrpv si vygenerujeme dáta, ktoré budeme chcieť fitnúť. Bude to normálna distribúcia."
   ]
  },
  {
   "cell_type": "code",
   "execution_count": 2,
   "metadata": {
    "collapsed": false
   },
   "outputs": [
    {
     "data": {
      "text/plain": [
       "[<matplotlib.lines.Line2D at 0x207e00507b8>]"
      ]
     },
     "execution_count": 2,
     "metadata": {},
     "output_type": "execute_result"
    },
    {
     "data": {
      "image/png": "[encoded data removed]",
      "text/plain": [
       "<matplotlib.figure.Figure at 0x207dffcbef0>"
      ]
     },
     "metadata": {},
     "output_type": "display_data"
    }
   ],
   "source": [
    "fig, ax = plt.subplots(1,1)\n",
    "x = np.linspace(norm.ppf(0.01), norm.ppf(0.99), 100)\n",
    "ax.plot(x, norm.pdf(x), 'r-', lw=5, alpha=0.6)"
   ]
  },
  {
   "cell_type": "code",
   "execution_count": 3,
   "metadata": {
    "collapsed": false
   },
   "outputs": [],
   "source": [
    "data = np.matrix([x, norm.pdf(x)]).transpose()"
   ]
  },
  {
   "cell_type": "markdown",
   "metadata": {},
   "source": [
    "Teraz si zadefinujeme MSE funkciu, ktorá nám pre dataset a nejakú funkciu vráti chybu. Toto bude funkcia, ktorú pôjdeme minimalizovať."
   ]
  },
  {
   "cell_type": "code",
   "execution_count": 4,
   "metadata": {
    "collapsed": false
   },
   "outputs": [],
   "source": [
    "def mse(target, sug):\n",
    "    return sum((target - sug).A1**2)"
   ]
  },
  {
   "cell_type": "markdown",
   "metadata": {
    "collapsed": false
   },
   "source": [
    "Vytvoríme si náhodný strom, priradíme mu symboly, sparsujeme a vyhodnotíme jeho MSE."
   ]
  },
  {
   "cell_type": "code",
   "execution_count": 5,
   "metadata": {
    "collapsed": false
   },
   "outputs": [],
   "source": [
    "def generate_expresion():\n",
    "    tree = readcode.generate(3)\n",
    "    tree_with_symbols = symbols.assign_symbols(tree)\n",
    "    return tree_with_symbols"
   ]
  },
  {
   "cell_type": "code",
   "execution_count": 6,
   "metadata": {
    "collapsed": false
   },
   "outputs": [],
   "source": [
    "def candidate_solution_func(expr_str, x):\n",
    "    return eval(readcode.parse(expr_str))"
   ]
  },
  {
   "cell_type": "markdown",
   "metadata": {},
   "source": [
    "Už máme v podstate všetko potrebné, takže vygenerujeme 10 náhodných stromov, vyhodnotíme ich a zoradíme podľa fitness."
   ]
  },
  {
   "cell_type": "code",
   "execution_count": 7,
   "metadata": {
    "collapsed": false
   },
   "outputs": [],
   "source": [
    "def eval_fintess_of_population(population):\n",
    "    evalued = []\n",
    "    for individual in population:\n",
    "        try:\n",
    "            X = candidate_solution_func(individual[0], data[:,0])\n",
    "        except ValueError as ve:\n",
    "            print(ve)\n",
    "            continue\n",
    "        error = mse(data[:,1], X)\n",
    "        evalued.append((individual[0], error))\n",
    "    evalued.sort(key=lambda x: x[1])\n",
    "    return [x for x in evalued if float('-inf') < float(x[1]) < float('inf')]\n",
    "    "
   ]
  },
  {
   "cell_type": "markdown",
   "metadata": {},
   "source": [
    "Takze teraz mozeme spustit niekolko iteracii a sledovat, ci sa fitness bude zlepsovat alebo nie"
   ]
  },
  {
   "cell_type": "code",
   "execution_count": 16,
   "metadata": {
    "collapsed": false,
    "scrolled": true
   },
   "outputs": [
    {
     "name": "stdout",
     "output_type": "stream",
     "text": [
      "shapes (100,1) and (100,1) not aligned: 1 (dim 1) != 100 (dim 0)\n",
      "shapes (100,1) and (100,1) not aligned: 1 (dim 1) != 100 (dim 0)\n",
      "shapes (100,1) and (100,1) not aligned: 1 (dim 1) != 100 (dim 0)\n",
      "shapes (100,1) and (100,1) not aligned: 1 (dim 1) != 100 (dim 0)\n"
     ]
    },
    {
     "name": "stderr",
     "output_type": "stream",
     "text": [
      "C:\\Users\\jarinov-notas\\Anaconda3\\lib\\site-packages\\ipykernel\\__main__.py:1: RuntimeWarning: invalid value encountered in sqrt\n",
      "  if __name__ == '__main__':\n",
      "C:\\Users\\jarinov-notas\\Anaconda3\\lib\\site-packages\\ipykernel\\__main__.py:1: RuntimeWarning: overflow encountered in exp\n",
      "  if __name__ == '__main__':\n",
      "C:\\Users\\jarinov-notas\\Anaconda3\\lib\\site-packages\\ipykernel\\__main__.py:2: RuntimeWarning: overflow encountered in square\n",
      "  from ipykernel import kernelapp as app\n"
     ]
    }
   ],
   "source": [
    "population = [(generate_expresion(), None) for i in range(0,10)]\n",
    "population = eval_fintess_of_population(population)\n",
    "\n",
    "best = []\n",
    "\n",
    "for i in range(0,100):\n",
    "    avg_fitness = sum([x[1] for x in population])/len(population)\n",
    "    best_fitness = min(population, key=lambda x: x[1])\n",
    "    best.append(best_fitness[1])\n",
    "    #print('%d - avg: %f, best: %f'%(i, avg_fitness, best_fitness[1]))\n",
    "    \n",
    "    population = genetic_operations.generate_new_population(population, 10)\n",
    "    population = eval_fintess_of_population(population)\n",
    "    "
   ]
  },
  {
   "cell_type": "code",
   "execution_count": 17,
   "metadata": {
    "collapsed": false
   },
   "outputs": [
    {
     "data": {
      "text/plain": [
       "[<matplotlib.lines.Line2D at 0x207e3bd34e0>]"
      ]
     },
     "execution_count": 17,
     "metadata": {},
     "output_type": "execute_result"
    },
    {
     "data": {
      "image/png": "[encoded data removed]",
      "text/plain": [
       "<matplotlib.figure.Figure at 0x207e2aea240>"
      ]
     },
     "metadata": {},
     "output_type": "display_data"
    }
   ],
   "source": [
    "plt.plot(best)"
   ]
  },
  {
   "cell_type": "code",
   "execution_count": 18,
   "metadata": {
    "collapsed": false
   },
   "outputs": [],
   "source": [
    "best_fitness = min(population, key=lambda x: x[1])"
   ]
  },
  {
   "cell_type": "code",
   "execution_count": 20,
   "metadata": {
    "collapsed": false
   },
   "outputs": [
    {
     "data": {
      "text/plain": [
       "([(2, '-'),\n",
       "  (1, 'sqrt'),\n",
       "  (1, 'sqrt'),\n",
       "  (1, 'sqrt'),\n",
       "  (0, 1),\n",
       "  (2, '/'),\n",
       "  (0, 'x'),\n",
       "  (0, 'x')],\n",
       " 5.9970791305928834)"
      ]
     },
     "execution_count": 20,
     "metadata": {},
     "output_type": "execute_result"
    }
   ],
   "source": [
    "best_fitness"
   ]
  },
  {
   "cell_type": "code",
   "execution_count": null,
   "metadata": {
    "collapsed": true
   },
   "outputs": [],
   "source": [
    "fig, ax = plt.subplots(1,1)\n",
    "x = np.linspace(norm.ppf(0.01), norm.ppf(0.99), 100)\n",
    "ax.plot(x, candidate_solution_func(best_fitness,x), 'r-', lw=5, alpha=0.6)"
   ]
  }
 ],
 "metadata": {
  "anaconda-cloud": {},
  "kernelspec": {
   "display_name": "Python [conda root]",
   "language": "python",
   "name": "conda-root-py"
  },
  "language_info": {
   "codemirror_mode": {
    "name": "ipython",
    "version": 3
   },
   "file_extension": ".py",
   "mimetype": "text/x-python",
   "name": "python",
   "nbconvert_exporter": "python",
   "pygments_lexer": "ipython3",
   "version": "3.5.2"
  }
 },
 "nbformat": 4,
 "nbformat_minor": 1
}
