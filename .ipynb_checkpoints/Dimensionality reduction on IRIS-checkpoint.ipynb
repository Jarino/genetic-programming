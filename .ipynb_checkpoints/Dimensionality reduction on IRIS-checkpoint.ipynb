{
 "cells": [
  {
   "cell_type": "code",
   "execution_count": 1,
   "metadata": {
    "collapsed": false
   },
   "outputs": [],
   "source": [
    "import math\n",
    "import random as rnd\n",
    "\n",
    "import numpy as np\n",
    "from sklearn import datasets\n",
    "from scipy.spatial.distance import pdist\n",
    "from scipy import stats\n",
    "import matplotlib.pyplot as plt\n",
    "%matplotlib inline\n",
    "\n",
    "from environment.environment import Environment\n",
    "from rtree.random_tree_factory import RandomTreeFactory\n",
    "from genetics.individual import Individual\n",
    "from genetics.selection import tournament_selection\n",
    "from genetics.operators import point_mutation\n",
    "from genetics.operators import crossover"
   ]
  },
  {
   "cell_type": "code",
   "execution_count": 101,
   "metadata": {
    "collapsed": false
   },
   "outputs": [],
   "source": [
    "SYMBOLS = {\n",
    "    '_sum': lambda x, y: x + y,\n",
    "    '_diff': lambda x, y: x - y,\n",
    "    '_prod': lambda x, y: x * y,\n",
    "  #   '_div': lambda x, y: x/y if y != 0 else 1,\n",
    "  #   '_log': lambda x: math.log(x) if x > 0 else 1,\n",
    "  #   '_sin': lambda x: math.sin(x),\n",
    "    '_vars': lambda: rnd.choice(['x0', 'x1', 'x2', 'x3'])\n",
    "}\n",
    "\n",
    "ENV = Environment(SYMBOLS)\n",
    "\n",
    "FACTORY = RandomTreeFactory(environment=ENV)"
   ]
  },
  {
   "cell_type": "code",
   "execution_count": 110,
   "metadata": {
    "collapsed": true
   },
   "outputs": [],
   "source": [
    "DATA = datasets.load_iris()['data']\n",
    "LABELS = datasets.load_iris().target\n",
    "N_POP = 100\n",
    "N_INPUTS = 4\n",
    "N_OUTPUTS = 2\n",
    "N_GENS = 40\n",
    "CROSSOVER_P = 0.9\n",
    "MUTATION_P = 0.1\n",
    "TOURNAMENT_SIZE=10"
   ]
  },
  {
   "cell_type": "code",
   "execution_count": 111,
   "metadata": {
    "collapsed": true
   },
   "outputs": [],
   "source": [
    "def cost_function(outputs):   \n",
    "    dist = pdist(np.array(outputs), metric='euclidean')\n",
    "    \n",
    "    h = np.histogram(dist)\n",
    "    p=h[0].astype(float)/h[0].sum()\n",
    "    return -stats.entropy(p)"
   ]
  },
  {
   "cell_type": "code",
   "execution_count": 112,
   "metadata": {
    "collapsed": false
   },
   "outputs": [],
   "source": [
    "# create initial population\n",
    "\n",
    "population = []\n",
    "variables = ['x%d'%x for x in range(0, N_INPUTS)]\n",
    "for _ in range(0, N_POP):\n",
    "    trees = [FACTORY.create() for _ in range(0, N_OUTPUTS)]\n",
    "    population.append(Individual(trees, variables))"
   ]
  },
  {
   "cell_type": "code",
   "execution_count": 113,
   "metadata": {
    "collapsed": false
   },
   "outputs": [
    {
     "name": "stdout",
     "output_type": "stream",
     "text": [
      "x0\n",
      "x3\n"
     ]
    }
   ],
   "source": [
    "print(population[0])"
   ]
  },
  {
   "cell_type": "code",
   "execution_count": 114,
   "metadata": {
    "collapsed": true
   },
   "outputs": [],
   "source": [
    "hof = []"
   ]
  },
  {
   "cell_type": "code",
   "execution_count": 115,
   "metadata": {
    "collapsed": false
   },
   "outputs": [
    {
     "name": "stdout",
     "output_type": "stream",
     "text": [
      "Generation 0\n",
      "Generation 1\n",
      "Generation 2\n",
      "Generation 3\n",
      "Generation 4\n",
      "Generation 5\n",
      "Generation 6\n",
      "Generation 7\n",
      "Generation 8\n",
      "Generation 9\n",
      "Generation 10\n",
      "Generation 11\n",
      "Generation 12\n",
      "Generation 13\n",
      "Generation 14\n",
      "Generation 15\n",
      "Generation 16\n",
      "Generation 17\n",
      "Generation 18\n",
      "Generation 19\n",
      "Generation 20\n",
      "Generation 21\n",
      "Generation 22\n",
      "Generation 23\n",
      "Generation 24\n",
      "Generation 25\n",
      "Generation 26\n",
      "Generation 27\n",
      "Generation 28\n",
      "Generation 29\n",
      "Generation 30\n",
      "Generation 31\n",
      "Generation 32\n",
      "Generation 33\n",
      "Generation 34\n",
      "Generation 35\n",
      "Generation 36\n",
      "Generation 37\n",
      "Generation 38\n",
      "Generation 39\n"
     ]
    }
   ],
   "source": [
    "# main evolution cycle\n",
    "\n",
    "for i in range(0, N_GENS):\n",
    "    \n",
    "    print('Generation %d' % i)\n",
    "    \n",
    "    # evaluate the population\n",
    "    for individual in population:\n",
    "        individual.eval_on_data(DATA, cost_function, SYMBOLS)\n",
    "    \n",
    "    hof.append(sorted(population, key=lambda x: x.fitness)[0])\n",
    "    \n",
    "    # create new population\n",
    "    new_population = []\n",
    "    while len(new_population) < N_POP:\n",
    "        child_a = tournament_selection(population, TOURNAMENT_SIZE).copy()\n",
    "        child_b = tournament_selection(population, TOURNAMENT_SIZE).copy()\n",
    "\n",
    "        # crossover\n",
    "        for i in range(0, N_OUTPUTS):\n",
    "            if rnd.random() < CROSSOVER_P:\n",
    "                child_a.trees[i], child_b.trees[i] = crossover(child_a.trees[i], child_b.trees[i])\n",
    "\n",
    "\n",
    "        for i in range(0, N_OUTPUTS):\n",
    "            if rnd.random() < MUTATION_P:\n",
    "                child_a.trees[i] = point_mutation(child_a.trees[i], ENV)\n",
    "                child_b.trees[i] = point_mutation(child_b.trees[i], ENV)\n",
    "\n",
    "        new_population.append(child_a)\n",
    "        new_population.append(child_b)\n",
    "        \n",
    "    population = new_population"
   ]
  },
  {
   "cell_type": "code",
   "execution_count": 116,
   "metadata": {
    "collapsed": true
   },
   "outputs": [],
   "source": [
    "population.sort(key=lambda x: x.fitness)"
   ]
  },
  {
   "cell_type": "code",
   "execution_count": 124,
   "metadata": {
    "collapsed": false
   },
   "outputs": [],
   "source": [
    "def solutions_generator():\n",
    "    for i in range(0, len(hof)):\n",
    "        chosen = hof[i]\n",
    "        out = []\n",
    "\n",
    "        for row in DATA:\n",
    "            out.append(chosen.eval_on_row(row, cost_function, SYMBOLS))\n",
    "\n",
    "        out = np.array(out)\n",
    "\n",
    "        plt.scatter(out[:,0], out[:,1])\n",
    "        plt.scatter(out[:,0], out[:,1], c=LABELS)\n",
    "        print(chosen)\n",
    "        yield\n",
    "solutions = solutions_generator()"
   ]
  },
  {
   "cell_type": "code",
   "execution_count": null,
   "metadata": {
    "collapsed": true
   },
   "outputs": [],
   "source": []
  }
 ],
 "metadata": {
  "anaconda-cloud": {},
  "kernelspec": {
   "display_name": "Python [conda root]",
   "language": "python",
   "name": "conda-root-py"
  },
  "language_info": {
   "codemirror_mode": {
    "name": "ipython",
    "version": 3
   },
   "file_extension": ".py",
   "mimetype": "text/x-python",
   "name": "python",
   "nbconvert_exporter": "python",
   "pygments_lexer": "ipython3",
   "version": "3.5.2"
  }
 },
 "nbformat": 4,
 "nbformat_minor": 1
}
